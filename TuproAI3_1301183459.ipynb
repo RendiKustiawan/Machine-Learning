{
  "nbformat": 4,
  "nbformat_minor": 0,
  "metadata": {
    "colab": {
      "name": "TuproAI3_1301183459.ipynb",
      "provenance": [],
      "collapsed_sections": []
    },
    "kernelspec": {
      "name": "python3",
      "display_name": "Python 3"
    }
  },
  "cells": [
    {
      "cell_type": "code",
      "metadata": {
        "id": "hUsK7csG1fT5"
      },
      "source": [
        "import numpy as np\r\n",
        "import pandas as pd\r\n",
        "import matplotlib.pyplot as plt\r\n",
        "from sklearn.impute import SimpleImputer\r\n",
        "from sklearn.preprocessing import StandardScaler\r\n",
        "import statistics \r\n",
        "from sklearn.neighbors import KNeighborsClassifier\r\n",
        "from operator import itemgetter"
      ],
      "execution_count": 47,
      "outputs": []
    },
    {
      "cell_type": "markdown",
      "metadata": {
        "id": "LRFXM-o81sVs"
      },
      "source": [
        "## Upload dan Membaca File"
      ]
    },
    {
      "cell_type": "code",
      "metadata": {
        "colab": {
          "resources": {
            "http://localhost:8080/nbextensions/google.colab/files.js": {
              "data": "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",
              "ok": true,
              "headers": [
                [
                  "content-type",
                  "application/javascript"
                ]
              ],
              "status": 200,
              "status_text": ""
            }
          },
          "base_uri": "https://localhost:8080/",
          "height": 73
        },
        "id": "uEQutlcM1x7m",
        "outputId": "18a5a749-330d-40a1-df6f-17b5af2c5273"
      },
      "source": [
        "#upload file \r\n",
        "from google.colab import files\r\n",
        "uploaded = files.upload()"
      ],
      "execution_count": 48,
      "outputs": [
        {
          "output_type": "display_data",
          "data": {
            "text/html": [
              "\n",
              "     <input type=\"file\" id=\"files-71299893-6d63-450e-a9c5-4805cf66837b\" name=\"files[]\" multiple disabled\n",
              "        style=\"border:none\" />\n",
              "     <output id=\"result-71299893-6d63-450e-a9c5-4805cf66837b\">\n",
              "      Upload widget is only available when the cell has been executed in the\n",
              "      current browser session. Please rerun this cell to enable.\n",
              "      </output>\n",
              "      <script src=\"/nbextensions/google.colab/files.js\"></script> "
            ],
            "text/plain": [
              "<IPython.core.display.HTML object>"
            ]
          },
          "metadata": {
            "tags": []
          }
        },
        {
          "output_type": "stream",
          "text": [
            "Saving Diabetes.csv to Diabetes (3).csv\n"
          ],
          "name": "stdout"
        }
      ]
    },
    {
      "cell_type": "code",
      "metadata": {
        "id": "C469DUUv11Sw"
      },
      "source": [
        "#membaca file\r\n",
        "import io\r\n",
        "dataset = pd.read_csv(io.StringIO(uploaded['Diabetes.csv'].decode('utf-8')))"
      ],
      "execution_count": 49,
      "outputs": []
    },
    {
      "cell_type": "markdown",
      "metadata": {
        "id": "Wcks_A9L143E"
      },
      "source": [
        "## Prapemrosesan Data"
      ]
    },
    {
      "cell_type": "code",
      "metadata": {
        "id": "AaqOl4xl2BFA"
      },
      "source": [
        "#Preprocessing\r\n",
        "X = dataset.iloc[:, :8]\r\n",
        "y = dataset['Outcome'].values"
      ],
      "execution_count": 50,
      "outputs": []
    },
    {
      "cell_type": "code",
      "metadata": {
        "id": "3VWyoKZE5ZVq"
      },
      "source": [
        "#input mising value\r\n",
        "X = X.replace(0, np.nan)\r\n",
        "\r\n",
        "imp_mean = SimpleImputer(missing_values=np.nan, strategy='mean')\r\n",
        "imp_mean.fit(X)\r\n",
        "X = imp_mean.transform(X)"
      ],
      "execution_count": 51,
      "outputs": []
    },
    {
      "cell_type": "code",
      "metadata": {
        "id": "sVHVM88Gf0Y2"
      },
      "source": [
        "#Membagi data training set dan testing set\r\n",
        "\r\n",
        "#case data ke-1\r\n",
        "trainingset_X = X[:614]\r\n",
        "trainingset_y = y[:614]\r\n",
        "testingset_X = X[614:]\r\n",
        "testingset_y = y[614:]\r\n",
        "\r\n",
        "# #case data ke-2\r\n",
        "trainingset_X = np.concatenate((X[:461], X[614:]))\r\n",
        "trainingset_y = np.concatenate((y[:461], y[614:]))\r\n",
        "testingset_X = X[461:614]\r\n",
        "testingset_y = y[461:614]\r\n",
        "\r\n",
        "# case data ke-3\r\n",
        "trainingset_X = np.concatenate((X[:307], X[461:]))\r\n",
        "trainingset_y = np.concatenate((y[:307], y[461:]))\r\n",
        "testingset_X = X[307:461]\r\n",
        "testingset_y = y[307:461]\r\n",
        "\r\n",
        "#case data ke-4\r\n",
        "trainingset_X = np.concatenate((X[:154], X[307:]))\r\n",
        "trainingset_y = np.concatenate((y[:154], y[307:]))\r\n",
        "testingset_X = X[154:307]\r\n",
        "testingset_y = y[154:307]\r\n",
        "\r\n",
        "#case data ke-5\r\n",
        "trainingset_X = X[155:]\r\n",
        "trainingset_y = y[155:]\r\n",
        "testingset_X = X[:155]\r\n",
        "testingset_y = y[:155]\r\n",
        "\r\n"
      ],
      "execution_count": 52,
      "outputs": []
    },
    {
      "cell_type": "code",
      "metadata": {
        "id": "CsJiwNHskyDK"
      },
      "source": [
        "error_rate = []\r\n",
        "for i in range(1,40):\r\n",
        " knn = KNeighborsClassifier(n_neighbors=i)\r\n",
        " knn.fit(trainingset_X,trainingset_y)\r\n",
        " pred_i = knn.predict(testingset_X)\r\n",
        " error_rate.append(np.mean(pred_i != testingset_y))\r\n",
        "\r\n",
        "plt.figure(figsize=(10,6))\r\n",
        "plt.plot(range(1,40),error_rate,color='blue', linestyle='dashed', \r\n",
        "         marker='o',markerfacecolor='red', markersize=10)\r\n",
        "plt.title('Error Rate vs. K Value')\r\n",
        "plt.xlabel('K')\r\n",
        "plt.ylabel('Error Rate')\r\n",
        "print(\"Minimum error:-\",min(error_rate),\"at K =\",error_rate.index(min(error_rate)))\r\n"
      ],
      "execution_count": null,
      "outputs": []
    },
    {
      "cell_type": "markdown",
      "metadata": {
        "id": "vNV7H9th2Mjq"
      },
      "source": [
        "## Perhitungan Ukuran Jarak"
      ]
    },
    {
      "cell_type": "code",
      "metadata": {
        "id": "qmNLBhG02RyY"
      },
      "source": [
        "def manhattan(trainingset,testingset):\r\n",
        "  return np.sum(np.abs(np.array(trainingset)-np.array(testingset)))\r\n",
        "\r\n",
        "#eucliden\r\n",
        "# def eucliden(trainingset,testingset):\r\n",
        "#   return np.sqrt(np.sum((trainingset-testingset)**2))\r\n",
        "\r\n",
        "# a = [100, 200]\r\n",
        "# b = [400, 600]\r\n",
        "# manhattan(a, b)\r\n"
      ],
      "execution_count": 54,
      "outputs": []
    },
    {
      "cell_type": "markdown",
      "metadata": {
        "id": "MFeeFGZYUVLy"
      },
      "source": [
        "## Klasifikasi KNN"
      ]
    },
    {
      "cell_type": "code",
      "metadata": {
        "id": "lhqjXuJb2cO6"
      },
      "source": [
        "#Klasifikasi KNN\r\n",
        "def klasifikasi(k):\r\n",
        "  hasil = []\r\n",
        "  nt = []\r\n",
        "  hasil_pembelajaran = []\r\n",
        "  for i in testingset_X:\r\n",
        "    hasil = []\r\n",
        "    for j in trainingset_X:\r\n",
        "      hasil.append(manhattan(i,j))\r\n",
        "      sort = np.argsort(hasil)[:k]\r\n",
        "    \r\n",
        "    for l in sort:\r\n",
        "      nt.append(trainingset_y[l])\r\n",
        "    hasil_pembelajaran.append(statistics.mode(nt))\r\n",
        "    nt = [] \r\n",
        "  return hasil_pembelajaran"
      ],
      "execution_count": 64,
      "outputs": []
    },
    {
      "cell_type": "markdown",
      "metadata": {
        "id": "6DyiOEsMHDoB"
      },
      "source": [
        "## Pemilihan Rata-Rata Akurasi KNN Menggunakan 5-fold cross-validation dan Pemilihan Nilai K Terbaik\r\n"
      ]
    },
    {
      "cell_type": "code",
      "metadata": {
        "colab": {
          "base_uri": "https://localhost:8080/"
        },
        "id": "syMeRwKRHKX_",
        "outputId": "2f418778-76b8-407d-c7ee-cead40a582d7"
      },
      "source": [
        "#5-fold Cross-Validation\r\n",
        "k = 3\r\n",
        "nk = []\r\n",
        "for i in range(20):\r\n",
        "  total_akurasi = 0\r\n",
        "  for j in range(5):\r\n",
        "    if j == 0:\r\n",
        "      trainingset_X = X[:614]\r\n",
        "      trainingset_y = y[:614]\r\n",
        "      testingset_X = X[614:]\r\n",
        "      testingset_y = y[614:]\r\n",
        "    elif j == 1:\r\n",
        "      trainingset_X = np.concatenate((X[:461], X[614:]))\r\n",
        "      trainingset_y = np.concatenate((y[:461], y[614:]))\r\n",
        "      testingset_X = X[461:614]\r\n",
        "      testingset_y = y[461:614]\r\n",
        "    elif j == 2:\r\n",
        "      trainingset_X = np.concatenate((X[:307], X[461:]))\r\n",
        "      trainingset_y = np.concatenate((y[:307], y[461:]))\r\n",
        "      testingset_X = X[307:461]\r\n",
        "      testingset_y = y[307:461]\r\n",
        "    elif j == 3:\r\n",
        "      trainingset_X = np.concatenate((X[:154], X[307:]))\r\n",
        "      trainingset_y = np.concatenate((y[:154], y[307:]))\r\n",
        "      testingset_X = X[154:307]\r\n",
        "      testingset_y = y[154:307]\r\n",
        "    elif j == 4:\r\n",
        "       trainingset_X = X[155:]\r\n",
        "       trainingset_y = y[155:]\r\n",
        "       testingset_X = X[:155]\r\n",
        "       testingset_y = y[:155]\r\n",
        "\r\n",
        "#Scaling\r\n",
        "    scaler=StandardScaler()\r\n",
        "    trainingset_X = scaler.fit_transform(trainingset_X)\r\n",
        "    testingset_X = scaler.transform(testingset_X)\r\n",
        "\r\n",
        "#Pemilihan nilai rata-rata akurasi \r\n",
        "    total_akurasi += (np.sum(klasifikasi(k) == testingset_y) / len(testingset_y))*100\r\n",
        "  print(i+1, 'Rata-rata akurasi dengan nilai K',k,':' ,total_akurasi/5)\r\n",
        "#Pemilihan nilai K terbaik\r\n",
        "  nk.append([total_akurasi/5, k])\r\n",
        "  k = k+2\r\n",
        "  nk = sorted(nk, key=itemgetter(0), reverse=True)\r\n",
        "print('Dan K =', nk[0][1], 'merupakan K yang memiliki nilai akurasi yang tertinggi yaitu:', nk[0][0])"
      ],
      "execution_count": 57,
      "outputs": [
        {
          "output_type": "stream",
          "text": [
            "1 Rata-rata akurasi dengan nilai K 3 : 72.81768073798435\n",
            "2 Rata-rata akurasi dengan nilai K 5 : 73.99661017877337\n",
            "3 Rata-rata akurasi dengan nilai K 7 : 73.21150239176805\n",
            "4 Rata-rata akurasi dengan nilai K 9 : 75.29115497616446\n",
            "5 Rata-rata akurasi dengan nilai K 11 : 76.1977213172659\n",
            "6 Rata-rata akurasi dengan nilai K 13 : 76.5865047876433\n",
            "7 Rata-rata akurasi dengan nilai K 15 : 77.3708185131335\n",
            "8 Rata-rata akurasi dengan nilai K 17 : 77.88523894406248\n",
            "9 Rata-rata akurasi dengan nilai K 19 : 77.11190517262622\n",
            "10 Rata-rata akurasi dengan nilai K 21 : 76.71636396494083\n",
            "11 Rata-rata akurasi dengan nilai K 23 : 75.80387775833697\n",
            "12 Rata-rata akurasi dengan nilai K 25 : 75.9337478882071\n",
            "13 Rata-rata akurasi dengan nilai K 27 : 75.93207214459588\n",
            "14 Rata-rata akurasi dengan nilai K 29 : 75.93122332021764\n",
            "15 Rata-rata akurasi dengan nilai K 31 : 76.32338018296272\n",
            "16 Rata-rata akurasi dengan nilai K 33 : 76.32338018296272\n",
            "17 Rata-rata akurasi dengan nilai K 35 : 76.97697495420455\n",
            "18 Rata-rata akurasi dengan nilai K 37 : 76.71385034952398\n",
            "19 Rata-rata akurasi dengan nilai K 39 : 76.19266122871436\n",
            "20 Rata-rata akurasi dengan nilai K 41 : 75.80221296729836\n",
            "Dan K = 17 merupakan K yang memiliki nilai akurasi yang tertinggi yaitu: 77.88523894406248\n"
          ],
          "name": "stdout"
        }
      ]
    }
  ]
}