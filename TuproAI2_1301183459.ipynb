{
  "nbformat": 4,
  "nbformat_minor": 0,
  "metadata": {
    "colab": {
      "name": "TuproAI2_1301183459.ipynb",
      "provenance": [],
      "collapsed_sections": []
    },
    "kernelspec": {
      "display_name": "Python 3",
      "name": "python3"
    }
  },
  "cells": [
    {
      "cell_type": "code",
      "metadata": {
        "id": "mxYrYcGIM6qs"
      },
      "source": [
        "import numpy as np\n",
        "import pandas as pd\n",
        "import matplotlib.pyplot as plt\n",
        "import copy as cp"
      ],
      "execution_count": null,
      "outputs": []
    },
    {
      "cell_type": "markdown",
      "metadata": {
        "id": "-ZGC6jz0M1Zi"
      },
      "source": [
        "## Upload dan Membaca File"
      ]
    },
    {
      "cell_type": "code",
      "metadata": {
        "id": "3amd8tyOMtin",
        "outputId": "5acb9fba-efd8-44ff-9621-72158ac96d71",
        "colab": {
          "resources": {
            "http://localhost:8080/nbextensions/google.colab/files.js": {
              "data": "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",
              "ok": true,
              "headers": [
                [
                  "content-type",
                  "application/javascript"
                ]
              ],
              "status": 200,
              "status_text": ""
            }
          },
          "base_uri": "https://localhost:8080/",
          "height": 73
        }
      },
      "source": [
        "#upload file \n",
        "from google.colab import files\n",
        "uploaded = files.upload()"
      ],
      "execution_count": null,
      "outputs": [
        {
          "output_type": "display_data",
          "data": {
            "text/html": [
              "\n",
              "     <input type=\"file\" id=\"files-9049f51c-6dc5-42fa-bfdb-01d82c745d0e\" name=\"files[]\" multiple disabled\n",
              "        style=\"border:none\" />\n",
              "     <output id=\"result-9049f51c-6dc5-42fa-bfdb-01d82c745d0e\">\n",
              "      Upload widget is only available when the cell has been executed in the\n",
              "      current browser session. Please rerun this cell to enable.\n",
              "      </output>\n",
              "      <script src=\"/nbextensions/google.colab/files.js\"></script> "
            ],
            "text/plain": [
              "<IPython.core.display.HTML object>"
            ]
          },
          "metadata": {
            "tags": []
          }
        },
        {
          "output_type": "stream",
          "text": [
            "Saving Mahasiswa.xls to Mahasiswa (2).xls\n"
          ],
          "name": "stdout"
        }
      ]
    },
    {
      "cell_type": "code",
      "metadata": {
        "id": "4A-T56zGNiSg"
      },
      "source": [
        "#membaca file\n",
        "import io\n",
        "df = pd.read_excel(io.BytesIO(uploaded['Mahasiswa.xls']))\n",
        "data_mahasiswa = []\n",
        "for i in range(len(df)):\n",
        "  data_mahasiswa.append([df['Id'][i], df['Penghasilan'][i], df['Pengeluaran'][i]])"
      ],
      "execution_count": null,
      "outputs": []
    },
    {
      "cell_type": "markdown",
      "metadata": {
        "id": "7IHWkj1yQLLF"
      },
      "source": [
        "## Membership\n"
      ]
    },
    {
      "cell_type": "markdown",
      "metadata": {
        "id": "lLJDM0nx3k-H"
      },
      "source": [
        "Desain penghasilan"
      ]
    },
    {
      "cell_type": "code",
      "metadata": {
        "id": "QwrTGIYwQZb1"
      },
      "source": [
        "#Fungsi penghasilan rendah\n",
        "def penghasilan_rendah(x):\n",
        "  if x <= 3:\n",
        "    return 1\n",
        "  elif x > 6:\n",
        "    return 0\n",
        "  else:\n",
        "    return(6-x)/(6-3)"
      ],
      "execution_count": null,
      "outputs": []
    },
    {
      "cell_type": "code",
      "metadata": {
        "id": "82hD9-Fr5CeT"
      },
      "source": [
        "#Fungsi penghasilan menengah\n",
        "def penghasilan_menengah(x):\n",
        "  if x <= 3 or x > 15:\n",
        "    return 0\n",
        "  elif x > 3 and x <= 6:\n",
        "    return (x-3)/(6-3)\n",
        "  elif x > 6 and x <= 13:\n",
        "    return 1\n",
        "  elif x > 13 and x <= 15:\n",
        "    return (15-x)/(15-13)"
      ],
      "execution_count": null,
      "outputs": []
    },
    {
      "cell_type": "code",
      "metadata": {
        "id": "jT_qWZwV5CdC"
      },
      "source": [
        "#Fungsi penghasilan tinggi\n",
        "def penghasilan_tinggi(x):\n",
        "  if x <= 14:\n",
        "    return 0\n",
        "  elif x > 16:\n",
        "    return 1\n",
        "  else:\n",
        "    return (14-x)/(14-16)"
      ],
      "execution_count": null,
      "outputs": []
    },
    {
      "cell_type": "code",
      "metadata": {
        "id": "ZcRoGau7837L",
        "outputId": "2b519c98-e77d-417d-ba90-4ca6c88af35c",
        "colab": {
          "base_uri": "https://localhost:8080/",
          "height": 282
        }
      },
      "source": [
        "#Desain Penghasilan\n",
        "plotGrafik = np.arange(0, 20, 0.1)\n",
        "plt.plot(plotGrafik,[penghasilan_tinggi(x) for x in plotGrafik], label='Tinggi')\n",
        "plt.plot(plotGrafik,[penghasilan_rendah(x) for x in plotGrafik], label='Rendah')\n",
        "plt.plot(plotGrafik,[penghasilan_menengah(x) for x in plotGrafik], label='Menengah')\n",
        "plt.legend()"
      ],
      "execution_count": null,
      "outputs": [
        {
          "output_type": "execute_result",
          "data": {
            "text/plain": [
              "<matplotlib.legend.Legend at 0x7fa8749e2d30>"
            ]
          },
          "metadata": {
            "tags": []
          },
          "execution_count": 60
        },
        {
          "output_type": "display_data",
          "data": {
            "image/png": "[encoded data removed]",
            "text/plain": [
              "<Figure size 432x288 with 1 Axes>"
            ]
          },
          "metadata": {
            "tags": [],
            "needs_background": "light"
          }
        }
      ]
    },
    {
      "cell_type": "markdown",
      "metadata": {
        "id": "z0JRHoaDBnVf"
      },
      "source": [
        "Desain Pengeluaran\n",
        "\n",
        "\n"
      ]
    },
    {
      "cell_type": "code",
      "metadata": {
        "id": "vm9uNoIW8357"
      },
      "source": [
        "# Fungsi Pengeluaran sedikit\n",
        "def pengeluaran_sedikit(y):\n",
        "  if y <= 3:\n",
        "    return 1\n",
        "  elif y > 5:\n",
        "    return 0\n",
        "  else:\n",
        "    return (5-y)/(5-3)"
      ],
      "execution_count": null,
      "outputs": []
    },
    {
      "cell_type": "code",
      "metadata": {
        "id": "GdrI2EpJDLKP"
      },
      "source": [
        "# Fungsi Pengeluaran Normal\n",
        "def pengeluaran_normal(y):\n",
        "  if y <= 4 or y > 8:\n",
        "    return 0\n",
        "  elif y > 4 and y <= 6:\n",
        "    return (y-4)/(6-4)\n",
        "  elif y > 6 and y <= 7:\n",
        "    return 1\n",
        "  elif y > 7 and y <= 8:\n",
        "    return (8-y)/(8-7)"
      ],
      "execution_count": null,
      "outputs": []
    },
    {
      "cell_type": "code",
      "metadata": {
        "id": "zaCpx2PODLLK"
      },
      "source": [
        "# Fungsi Pengeluaran banyak\n",
        "def pengeluaran_banyak(y):\n",
        "  if y <= 7:\n",
        "    return 0\n",
        "  elif y > 10:\n",
        "    return 1\n",
        "  else:\n",
        "    return(y-7)/(10-7)"
      ],
      "execution_count": null,
      "outputs": []
    },
    {
      "cell_type": "code",
      "metadata": {
        "id": "Fnn2l6-IDK1u",
        "outputId": "66d9853a-4076-4255-f234-caf93e2351f4",
        "colab": {
          "base_uri": "https://localhost:8080/",
          "height": 282
        }
      },
      "source": [
        "#Desain Persentase Pengeluaran\n",
        "plotGrafik = np.arange(0, 20 , 0.1)\n",
        "plt.plot(plotGrafik,[pengeluaran_sedikit(x) for x in plotGrafik], label='Sedikit')\n",
        "plt.plot(plotGrafik,[pengeluaran_normal(x) for x in plotGrafik], label='Normal')\n",
        "plt.plot(plotGrafik,[pengeluaran_banyak(x) for x in plotGrafik], label='Banyak')\n",
        "plt.legend()"
      ],
      "execution_count": null,
      "outputs": [
        {
          "output_type": "execute_result",
          "data": {
            "text/plain": [
              "<matplotlib.legend.Legend at 0x7fa874a8dd30>"
            ]
          },
          "metadata": {
            "tags": []
          },
          "execution_count": 64
        },
        {
          "output_type": "display_data",
          "data": {
            "image/png": "[encoded data removed]",
            "text/plain": [
              "<Figure size 432x288 with 1 Axes>"
            ]
          },
          "metadata": {
            "tags": [],
            "needs_background": "light"
          }
        }
      ]
    },
    {
      "cell_type": "markdown",
      "metadata": {
        "id": "IFiyNELqxZm2"
      },
      "source": [
        "## Fuzzifikasi"
      ]
    },
    {
      "cell_type": "code",
      "metadata": {
        "id": "NxT3oG4Rxebp"
      },
      "source": [
        "fuzz_x = []\n",
        "fuzz_y = []\n",
        "for i in range(len(data_mahasiswa)):\n",
        "  fuzz_x.append([data_mahasiswa[i][0], penghasilan_rendah(data_mahasiswa[i][1]), penghasilan_menengah(data_mahasiswa[i][1]), penghasilan_tinggi(data_mahasiswa[i][1])])\n",
        "  fuzz_y.append([data_mahasiswa[i][0], pengeluaran_sedikit(data_mahasiswa[i][2]), pengeluaran_normal(data_mahasiswa[i][2]), pengeluaran_banyak(data_mahasiswa[i][2])])"
      ],
      "execution_count": null,
      "outputs": []
    },
    {
      "cell_type": "markdown",
      "metadata": {
        "id": "WoQ8IESKRCXg"
      },
      "source": [
        "## Inferensi"
      ]
    },
    {
      "cell_type": "markdown",
      "metadata": {
        "id": "F2b0--HmhwLc"
      },
      "source": [
        "| PENGHASILAN | PENGELUARAN | HASIL |\n",
        "| --- | --- | --- |\n",
        "| TINGGI | BANYAK | DITOLAK  |\n",
        "| TINGGI | NORMAL | DITOLAK |\n",
        "| TINGGI | SEDIKIT | DITOLAK |\n",
        "| MENENGAH | BANYAK | DITERIMA |\n",
        "| MENENGAH | NORMAL | DIPERTIMBANGKAN |\n",
        "| MENENGAH | SEDIKIT | DIPERTIMBANGKAN |\n",
        "| RENDAH | BANYAK | DITERIMA |\n",
        "| RENDAH | NORMAL | DITERIMA |\n",
        "| RENDAH | SEDIKIT | DITERIMA |"
      ]
    },
    {
      "cell_type": "code",
      "metadata": {
        "id": "33sFIWSNRH2P"
      },
      "source": [
        "data_inferensi = []\n",
        "for i in range(len(data_mahasiswa)):\n",
        "  ditolak = []\n",
        "  dipertimbangkan = []\n",
        "  diterima = []\n",
        "\n",
        "  ditolak.append(min(fuzz_x[i][3], fuzz_y[i][3]))\n",
        "  ditolak.append(min(fuzz_x[i][3], fuzz_y[i][2]))\n",
        "  ditolak.append(min(fuzz_x[i][3], fuzz_y[i][1]))\n",
        "\n",
        "  \n",
        "  diterima.append(min(fuzz_x[i][2], fuzz_y[i][3]))\n",
        "  diterima.append(min(fuzz_x[i][1], fuzz_y[i][3]))\n",
        "  diterima.append(min(fuzz_x[i][1], fuzz_y[i][2]))\n",
        "  diterima.append(min(fuzz_x[i][1], fuzz_y[i][1]))\n",
        "\n",
        "  dipertimbangkan.append(min(fuzz_x[i][2], fuzz_y[i][2]))\n",
        "  dipertimbangkan.append(min(fuzz_x[i][2], fuzz_y[i][1]))\n",
        "\n",
        "  hasil_ditolak = np.max(ditolak)\n",
        "  hasil_diterima = np.max(diterima)\n",
        "  hasil_dipertimbangkan = np.max(dipertimbangkan)\n",
        "  data_inferensi.append([data_mahasiswa[i][0], hasil_ditolak , hasil_diterima, hasil_dipertimbangkan])"
      ],
      "execution_count": null,
      "outputs": []
    },
    {
      "cell_type": "markdown",
      "metadata": {
        "id": "3-iqOgd6AuV8"
      },
      "source": [
        "## Defuzzifikasi"
      ]
    },
    {
      "cell_type": "code",
      "metadata": {
        "id": "ib9uvbDyAww7"
      },
      "source": [
        "data_defuzzy = []\n",
        "for i in range(len(data_mahasiswa)):\n",
        "  data_defuzzy.append([data_mahasiswa[i][0], (data_inferensi[i][1]*55)+(data_inferensi[i][2]*95)+(data_inferensi[i][3]*75)/(data_inferensi[i][1]+data_inferensi[i][2]+data_inferensi[i][3])])\n",
        "  "
      ],
      "execution_count": null,
      "outputs": []
    },
    {
      "cell_type": "markdown",
      "metadata": {
        "id": "8RK6oQ6pLW47"
      },
      "source": [
        "## Main Program"
      ]
    },
    {
      "cell_type": "code",
      "metadata": {
        "id": "i2KYXfLJLcz7"
      },
      "source": [
        "def sorting(elem):\n",
        "    return elem[1]\n",
        "data_sorting = cp.deepcopy(data_mahasiswa)\n",
        "data_sorting.sort(key=sorting, reverse = True)"
      ],
      "execution_count": null,
      "outputs": []
    },
    {
      "cell_type": "code",
      "metadata": {
        "id": "v1xLYEJKL0qa",
        "outputId": "7c90f81b-bebb-4881-dd11-bae415bbc85e",
        "colab": {
          "base_uri": "https://localhost:8080/"
        }
      },
      "source": [
        "data_defuzzy.sort(key=sorting, reverse=True)\n",
        "data_orang = []\n",
        "data_nilai = []\n",
        "for i in range (20):\n",
        "  data_orang.append(data_defuzzy[i][0])\n",
        "  data_nilai.append(data_defuzzy[i][1])\n",
        "print('20 ID Mahasiswa layak yang mendapatkan bantuan biaya registrasi sebesar 50% adalah:',data_orang)\n",
        "print()\n",
        "print(' Dengan Nilai Seleksi',data_nilai)"
      ],
      "execution_count": null,
      "outputs": [
        {
          "output_type": "stream",
          "text": [
            "20 ID Mahasiswa layak yang mendapatkan bantuan biaya registrasi sebesar 50% adalah: [33, 38, 46, 49, 50, 69, 79, 94, 99, 65, 16, 47, 66, 41, 52, 62, 13, 81, 11, 76]\n",
            "\n",
            " Dengan Nilai Seleksi [95.0, 95.0, 95.0, 95.0, 95.0, 95.0, 95.0, 95.0, 95.0, 89.77500000000003, 88.0333333333333, 88.0333333333333, 88.0333333333333, 84.19999999999999, 81.38333333333334, 80.27499999999998, 78.0, 77.90000000000003, 76.46666666666665, 75.56410256410257]\n"
          ],
          "name": "stdout"
        }
      ]
    },
    {
      "cell_type": "code",
      "metadata": {
        "id": "D5xZvpMmw0DU",
        "outputId": "2f72b66d-e95e-4000-8eff-10fb801e0c00",
        "colab": {
          "base_uri": "https://localhost:8080/",
          "height": 639
        }
      },
      "source": [
        "data_na= pd.DataFrame(np.asarray(data_orang), columns=[\"id\"])\n",
        "data_na.to_excel(\"Bantuan.xls\", index=False)\n",
        "files.download('Bantuan.xls')"
      ],
      "execution_count": null,
      "outputs": [
        {
          "output_type": "execute_result",
          "data": {
            "text/html": [
              "<div>\n",
              "<style scoped>\n",
              "    .dataframe tbody tr th:only-of-type {\n",
              "        vertical-align: middle;\n",
              "    }\n",
              "\n",
              "    .dataframe tbody tr th {\n",
              "        vertical-align: top;\n",
              "    }\n",
              "\n",
              "    .dataframe thead th {\n",
              "        text-align: right;\n",
              "    }\n",
              "</style>\n",
              "<table border=\"1\" class=\"dataframe\">\n",
              "  <thead>\n",
              "    <tr style=\"text-align: right;\">\n",
              "      <th></th>\n",
              "      <th>id</th>\n",
              "    </tr>\n",
              "  </thead>\n",
              "  <tbody>\n",
              "    <tr>\n",
              "      <th>0</th>\n",
              "      <td>33</td>\n",
              "    </tr>\n",
              "    <tr>\n",
              "      <th>1</th>\n",
              "      <td>38</td>\n",
              "    </tr>\n",
              "    <tr>\n",
              "      <th>2</th>\n",
              "      <td>46</td>\n",
              "    </tr>\n",
              "    <tr>\n",
              "      <th>3</th>\n",
              "      <td>49</td>\n",
              "    </tr>\n",
              "    <tr>\n",
              "      <th>4</th>\n",
              "      <td>50</td>\n",
              "    </tr>\n",
              "    <tr>\n",
              "      <th>5</th>\n",
              "      <td>69</td>\n",
              "    </tr>\n",
              "    <tr>\n",
              "      <th>6</th>\n",
              "      <td>79</td>\n",
              "    </tr>\n",
              "    <tr>\n",
              "      <th>7</th>\n",
              "      <td>94</td>\n",
              "    </tr>\n",
              "    <tr>\n",
              "      <th>8</th>\n",
              "      <td>99</td>\n",
              "    </tr>\n",
              "    <tr>\n",
              "      <th>9</th>\n",
              "      <td>65</td>\n",
              "    </tr>\n",
              "    <tr>\n",
              "      <th>10</th>\n",
              "      <td>16</td>\n",
              "    </tr>\n",
              "    <tr>\n",
              "      <th>11</th>\n",
              "      <td>47</td>\n",
              "    </tr>\n",
              "    <tr>\n",
              "      <th>12</th>\n",
              "      <td>66</td>\n",
              "    </tr>\n",
              "    <tr>\n",
              "      <th>13</th>\n",
              "      <td>41</td>\n",
              "    </tr>\n",
              "    <tr>\n",
              "      <th>14</th>\n",
              "      <td>52</td>\n",
              "    </tr>\n",
              "    <tr>\n",
              "      <th>15</th>\n",
              "      <td>62</td>\n",
              "    </tr>\n",
              "    <tr>\n",
              "      <th>16</th>\n",
              "      <td>13</td>\n",
              "    </tr>\n",
              "    <tr>\n",
              "      <th>17</th>\n",
              "      <td>81</td>\n",
              "    </tr>\n",
              "    <tr>\n",
              "      <th>18</th>\n",
              "      <td>11</td>\n",
              "    </tr>\n",
              "    <tr>\n",
              "      <th>19</th>\n",
              "      <td>76</td>\n",
              "    </tr>\n",
              "  </tbody>\n",
              "</table>\n",
              "</div>"
            ],
            "text/plain": [
              "    id\n",
              "0   33\n",
              "1   38\n",
              "2   46\n",
              "3   49\n",
              "4   50\n",
              "5   69\n",
              "6   79\n",
              "7   94\n",
              "8   99\n",
              "9   65\n",
              "10  16\n",
              "11  47\n",
              "12  66\n",
              "13  41\n",
              "14  52\n",
              "15  62\n",
              "16  13\n",
              "17  81\n",
              "18  11\n",
              "19  76"
            ]
          },
          "metadata": {
            "tags": []
          },
          "execution_count": 70
        }
      ]
    }
  ]
}