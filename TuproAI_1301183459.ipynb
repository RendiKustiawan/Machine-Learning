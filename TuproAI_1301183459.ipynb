{
  "nbformat": 4,
  "nbformat_minor": 0,
  "metadata": {
    "colab": {
      "name": "TuproAI_1301183459.ipynb",
      "provenance": [],
      "collapsed_sections": []
    },
    "kernelspec": {
      "name": "python3",
      "display_name": "Python 3"
    }
  },
  "cells": [
    {
      "cell_type": "markdown",
      "metadata": {
        "id": "V2PJJiAyC-nw"
      },
      "source": [
        ""
      ]
    },
    {
      "cell_type": "code",
      "metadata": {
        "id": "cZMhNFAjDAnY"
      },
      "source": [
        "import random\n",
        "import math\n",
        "import copy"
      ],
      "execution_count": 458,
      "outputs": []
    },
    {
      "cell_type": "markdown",
      "metadata": {
        "id": "kve3EYQcDLJP"
      },
      "source": [
        "## Decode Kromosom"
      ]
    },
    {
      "cell_type": "code",
      "metadata": {
        "id": "8NwMQhuIDAmm"
      },
      "source": [
        "def generatepopulasi(pop, krom):\n",
        "  arr1=[]\n",
        "  for i in range(pop):\n",
        "    arr2=[]\n",
        "    for j in range(krom):\n",
        "      arr2.append(random.randint(0,1))\n",
        "    arr1.append(arr2)\n",
        "  return arr1\n",
        "\n",
        "# pop = generatepopulasi(25,25)\n",
        "# pop"
      ],
      "execution_count": 459,
      "outputs": []
    },
    {
      "cell_type": "code",
      "metadata": {
        "id": "rcSqZFgZDzwW"
      },
      "source": [
        "def decodekrom(pop, i):\n",
        "  ntengah = len(pop[i])/2\n",
        "  \n",
        "  potongan1 = []\n",
        "  potongan2 = []\n",
        "\n",
        "  for x in pop[i][0:int(ntengah)]:\n",
        "    potongan1.append(x)\n",
        "\n",
        "  for x in pop[i][int(ntengah):len(pop[i])]:\n",
        "    potongan2.append(x)\n",
        "\n",
        "  rmin1 = -1\n",
        "  rmax1 = 2\n",
        "  rmin2 = -1\n",
        "  rmax2 = 1\n",
        "  sigma1 = 0\n",
        "  sigma2 = 0\n",
        "  g1 = 0\n",
        "  g2 = 0\n",
        "\n",
        "  for i in range(len(potongan1)):\n",
        "    sigma1 = sigma1 + (2**-(i+1))\n",
        "    g1 = g1 + potongan1[i] * (2**-(i+1))\n",
        "\n",
        "  for i in range(len(potongan2)):\n",
        "    sigma2 = sigma2 + (2**-(i+1))\n",
        "    g2 = g2 + potongan2[i] * (2**-(i+1))\n",
        "    \n",
        "\n",
        "  x1 = rmin1 + (((rmax1 - rmin1) / sigma1)*g1)\n",
        "  x2 = rmin2 + (((rmax2 - rmin2) / sigma2)*g2)\n",
        "  return x1, x2\n",
        "\n",
        "\n",
        "# x2 = decodekrom([[0,1,0,1,1,0]], 0)\n",
        "# print(x2)\n",
        "  \n",
        "# x1, x2 = decodekrom(pop, 0)\n",
        "# print(x1, x2)"
      ],
      "execution_count": 460,
      "outputs": []
    },
    {
      "cell_type": "markdown",
      "metadata": {
        "id": "bYilR_CqEjEH"
      },
      "source": [
        "## Perhitungan Fitness"
      ]
    },
    {
      "cell_type": "code",
      "metadata": {
        "id": "1z3UPuI_DzvB"
      },
      "source": [
        "def getrumus(x1,x2):\n",
        "  h = math.cos(x1) * math.sin(x2) - (x1 /(x2**2+1))\n",
        "  return h"
      ],
      "execution_count": 461,
      "outputs": []
    },
    {
      "cell_type": "code",
      "metadata": {
        "id": "NSbTEde7FJYq"
      },
      "source": [
        "def nilaifitnes(h):\n",
        "  if (h >= 0):\n",
        "    return 1 / (h + 1)\n",
        "  elif (h < 0):\n",
        "    return -h"
      ],
      "execution_count": 462,
      "outputs": []
    },
    {
      "cell_type": "code",
      "metadata": {
        "id": "8O7XWw7v2Ke1"
      },
      "source": [
        "def evaluate(pop):\n",
        "  Flist = []\n",
        "  for i in range(len(pop)):\n",
        "    x1, x2 = decodekrom(pop, i)\n",
        "    Flist.append(nilaifitnes(getrumus(x1, x2)))\n",
        "\n",
        "  return Flist"
      ],
      "execution_count": 463,
      "outputs": []
    },
    {
      "cell_type": "markdown",
      "metadata": {
        "id": "A73b6hPs3q65"
      },
      "source": [
        "## Pemilihan Orang Tua"
      ]
    },
    {
      "cell_type": "code",
      "metadata": {
        "id": "B9qrQPkk3ufz"
      },
      "source": [
        "def Roulette(Flist):\n",
        "  x = random.uniform(0, 1)\n",
        "  y = -1\n",
        "  while (x > 0):\n",
        "    y = y + 1\n",
        "    x = x - Flist[y] / sum(Flist)\n",
        "  return y\n",
        "# pop = generatepopulasi(3, 2)\n",
        "# print(Roulette(evaluate(pop)))"
      ],
      "execution_count": 464,
      "outputs": []
    },
    {
      "cell_type": "markdown",
      "metadata": {
        "id": "n1HUwhbG44_t"
      },
      "source": [
        "## Pindah Silang"
      ]
    },
    {
      "cell_type": "code",
      "metadata": {
        "id": "NApqrDkg4tD4"
      },
      "source": [
        "def crossover(parent1, parent2):\n",
        "  x = random.random()\n",
        "  if x >= 0 and x <= 0.7:\n",
        "    y = random.randint(1, len(parent1))\n",
        "    hasil1 = parent1[:y] + parent2[y:]\n",
        "    hasil2 = parent1[y:] + parent2[:y]\n",
        "    # print(hasil1, hasil2)\n",
        "    return hasil1, hasil2\n",
        "  return parent1,parent2\n",
        "\n",
        "\n",
        "# print(crossover([1, 0, 1, 0], [0, 0, 1, 1]))\n"
      ],
      "execution_count": 465,
      "outputs": []
    },
    {
      "cell_type": "markdown",
      "metadata": {
        "id": "zXMMoeN_5WXj"
      },
      "source": [
        "## Mutasi"
      ]
    },
    {
      "cell_type": "code",
      "metadata": {
        "id": "KpHKxLd25Xwf"
      },
      "source": [
        "def mutasi(anak1, anak2):\n",
        "    # probability = 1 / 100\n",
        "    # rand = random.uniform(0, 1)\n",
        "\n",
        "    # if rand <= probability:\n",
        "    #     mutasi1 = [1 if anak1 == 0 else 0 for i in range(len(anak1))]\n",
        "    #     mutasi2 = [1 if anak2 == 0 else 0 for i in range(len(anak2))]\n",
        "    #     return mutasi1, mutasi2\n",
        "    # else:\n",
        "    #     return anak1, anak2\n",
        "  x = random.random()\n",
        "  if x <= 0.1:\n",
        "      y = random.randint(1, len(anak1)-1)\n",
        "      print(y)\n",
        "      if (anak1[y] == 1):\n",
        "        anak1[y] = 0\n",
        "      else:\n",
        "        anak2[y] = 1\n",
        "\n",
        "      if (anak1[y] == 0):\n",
        "        anak1[y] = 1\n",
        "      else:\n",
        "        anak2[y] = 0\n",
        "\n",
        "  return anak1, anak2"
      ],
      "execution_count": 466,
      "outputs": []
    },
    {
      "cell_type": "markdown",
      "metadata": {
        "id": "m8OCrfo85h6f"
      },
      "source": [
        "## Pergantian Generasi"
      ]
    },
    {
      "cell_type": "code",
      "metadata": {
        "id": "HLItKCJA5nN5"
      },
      "source": [
        "def steadystatefit(pop, anak1, anak2, Flist):\n",
        "  sortFitness = copy.deepcopy(Flist)\n",
        "  sortFitness.sort()\n",
        "\n",
        "  min1 = 0\n",
        "  min2 = 0\n",
        "\n",
        "  for i in range(len(Flist)):\n",
        "    if(sortFitness[0] == Flist[i]):\n",
        "      min1 = i\n",
        "      break\n",
        "\n",
        "  for i in range(len(Flist)):\n",
        "    if(sortFitness[1] == Flist[i]):\n",
        "      min2 = i\n",
        "      break\n",
        "\n",
        "  pop[min1] = copy.deepcopy(anak1)\n",
        "  pop[min2] = copy.deepcopy(anak2)\n",
        "\n",
        "  return pop"
      ],
      "execution_count": 467,
      "outputs": []
    },
    {
      "cell_type": "markdown",
      "metadata": {
        "id": "eydsEuoJ6hEp"
      },
      "source": [
        "## Individu Terbaik\n",
        "\n"
      ]
    },
    {
      "cell_type": "code",
      "metadata": {
        "id": "4HxHgY3q6jK6"
      },
      "source": [
        "def individuterbaik(Flist):\n",
        "  sortFitness = copy.deepcopy(Flist)\n",
        "  sortFitness.sort()\n",
        "\n",
        "  max = 0\n",
        "\n",
        "  for i in range(len(Flist)):\n",
        "    if(sortFitness[len(Flist)- 1] == Flist[i]):\n",
        "      max = i\n",
        "  return max\n"
      ],
      "execution_count": 468,
      "outputs": []
    },
    {
      "cell_type": "markdown",
      "metadata": {
        "id": "tlKR_Ipz67wF"
      },
      "source": [
        "## Main Program"
      ]
    },
    {
      "cell_type": "code",
      "metadata": {
        "id": "utzYwlNJOA-E"
      },
      "source": [
        " individu = 40\n",
        "generasi = 15\n",
        "jmlGenerasi = 400"
      ],
      "execution_count": 469,
      "outputs": []
    },
    {
      "cell_type": "code",
      "metadata": {
        "id": "AhfRvltM69H9"
      },
      "source": [
        "pop = generatepopulasi(individu, generasi)\n",
        "\n",
        "for i in range(jmlGenerasi):\n",
        "  populasi = evaluate(pop)\n",
        "\n",
        "  cek1 = Roulette(populasi) \n",
        "  cek2 = Roulette(populasi)\n",
        "  \n",
        "  anak1, anak2 = crossover(pop[cek1], pop[cek2])\n",
        "  mut1, mut2 = mutasi(anak1, anak2)\n",
        "  pop = steadystatefit(pop, mut1, mut2, populasi)\n",
        "  populasi = evaluate(pop)\n",
        "\n",
        "  print('Generasi ke-', (i+1))\n",
        "  print('Populasi = ',pop)\n",
        "  print('Fitness = ',populasi,'\\n')\n",
        "\n",
        "bestid = individuterbaik(populasi)\n",
        "\n",
        "print('Generasi Terbaik =','Generasi Ke-',(i+1))\n",
        "print('Populasi Terbaik = ', pop)\n",
        "print('Individu Terbaik = ', pop[bestid])\n",
        "print('Fitnes Terbaik = ',nilaifitnes(getrumus(x1, x2)))\n",
        "x1, x2 = decodekrom(pop, bestid)\n",
        "print('Nilai X1 = ', x1)\n",
        "print('Nilai X2 = ', x2)"
      ],
      "execution_count": null,
      "outputs": []
    },
    {
      "cell_type": "markdown",
      "metadata": {
        "id": "2OPfKz5i3e5T"
      },
      "source": [
        ""
      ]
    }
  ]
}